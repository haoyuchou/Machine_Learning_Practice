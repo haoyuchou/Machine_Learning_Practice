{
 "cells": [
  {
   "cell_type": "code",
   "execution_count": 1,
   "id": "12e73414",
   "metadata": {},
   "outputs": [],
   "source": [
    "# SET UP\n",
    "# Python ≥3.5 is required\n",
    "import sys\n",
    "assert sys.version_info >= (3, 5)\n",
    "\n",
    "# Scikit-Learn ≥0.20 is required\n",
    "import sklearn\n",
    "assert sklearn.__version__ >= \"0.20\"\n",
    "\n",
    "try:\n",
    "    # %tensorflow_version only exists in Colab.\n",
    "    %tensorflow_version 2.x\n",
    "except Exception:\n",
    "    pass\n",
    "\n",
    "# TensorFlow ≥2.0 is required\n",
    "import tensorflow as tf\n",
    "from tensorflow import keras\n",
    "assert tf.__version__ >= \"2.0\"\n",
    "\n",
    "%load_ext tensorboard\n",
    "\n",
    "# Common imports\n",
    "import numpy as np\n",
    "import os\n",
    "\n",
    "# to make this notebook's output stable across runs\n",
    "np.random.seed(42)\n",
    "\n",
    "# To plot pretty figures\n",
    "%matplotlib inline\n",
    "import matplotlib as mpl\n",
    "import matplotlib.pyplot as plt\n",
    "mpl.rc('axes', labelsize=14)\n",
    "mpl.rc('xtick', labelsize=12)\n",
    "mpl.rc('ytick', labelsize=12)\n",
    "\n",
    "# Where to save the figures\n",
    "PROJECT_ROOT_DIR = \".\"\n",
    "CHAPTER_ID = \"deep\"\n",
    "IMAGES_PATH = os.path.join(PROJECT_ROOT_DIR, \"images\", CHAPTER_ID)\n",
    "os.makedirs(IMAGES_PATH, exist_ok=True)\n",
    "\n",
    "def save_fig(fig_id, tight_layout=True, fig_extension=\"png\", resolution=300):\n",
    "    path = os.path.join(IMAGES_PATH, fig_id + \".\" + fig_extension)\n",
    "    print(\"Saving figure\", fig_id)\n",
    "    if tight_layout:\n",
    "        plt.tight_layout()\n",
    "    plt.savefig(path, format=fig_extension, dpi=resolution)"
   ]
  },
  {
   "cell_type": "code",
   "execution_count": 2,
   "id": "c9f0934c",
   "metadata": {},
   "outputs": [],
   "source": [
    "keras.backend.clear_session()\n",
    "tf.random.set_seed(42)\n",
    "np.random.seed(42)"
   ]
  },
  {
   "cell_type": "code",
   "execution_count": 3,
   "id": "5dd17433",
   "metadata": {},
   "outputs": [],
   "source": [
    "model = keras.models.Sequential()\n",
    "model.add(keras.layers.Flatten(input_shape=[32, 32, 3]))\n",
    "for i in range(99):\n",
    "    model.add(keras.layers.Dense(100, activation='elu', kernel_initializer='he_normal'))\n",
    "# Build a DNN with 20 hidden layers of 100 neurons each\n",
    "# Use He initialization and the ELU activation function  "
   ]
  },
  {
   "cell_type": "code",
   "execution_count": 4,
   "id": "041558d6",
   "metadata": {},
   "outputs": [],
   "source": [
    "# Using Nadam optimization and early stopping, train the network on the CIFAR10 dataset\n",
    "model.add(keras.layers.Dense(10, activation='softmax')) # multiclass"
   ]
  },
  {
   "cell_type": "code",
   "execution_count": 5,
   "id": "ed9d6c93",
   "metadata": {},
   "outputs": [],
   "source": [
    "# load dataset\n",
    "(X_train_full, y_train_full), (X_test_full, y_test_full)=keras.datasets.cifar10.load_data()"
   ]
  },
  {
   "cell_type": "code",
   "execution_count": 6,
   "id": "17075cb4",
   "metadata": {},
   "outputs": [],
   "source": [
    "X_train=X_train_full[5000:]\n",
    "y_train=y_train_full[5000:]\n",
    "X_valid=X_train_full[:5000]\n",
    "y_valid=y_train_full[:5000]"
   ]
  },
  {
   "cell_type": "code",
   "execution_count": 7,
   "id": "8dab60ea",
   "metadata": {},
   "outputs": [],
   "source": [
    "# optimizer and learning rate\n",
    "# Use Nadam here\n",
    "optimizer = keras.optimizers.Nadam(lr=5e-5)\n",
    "model.compile(loss='sparse_categorical_crossentropy', optimizer = optimizer, metrics=['accuracy'])"
   ]
  },
  {
   "cell_type": "code",
   "execution_count": 8,
   "id": "95285568",
   "metadata": {},
   "outputs": [],
   "source": [
    "# Use early stopping\n",
    "early_stopping_cb = keras.callbacks.EarlyStopping(patience=20)\n",
    "model_checkpoint_cb = keras.callbacks.ModelCheckpoint(\"my_cifar10_model.h5\", save_best_only=True)    # save my model\n",
    "run_index = 1 # increment every time you train the model\n",
    "run_logdir = os.path.join(os.curdir, \"my_cifar10_logs\", \"run_{:03d}\".format(run_index))   # create in this path\n",
    "tensorboard_cb = keras.callbacks.TensorBoard(run_logdir)\n",
    "callbacks = [early_stopping_cb, model_checkpoint_cb, tensorboard_cb] # not tensorboard_cb first"
   ]
  },
  {
   "cell_type": "code",
   "execution_count": 16,
   "id": "4b3bc7bc",
   "metadata": {},
   "outputs": [
    {
     "data": {
      "text/plain": [
       "Reusing TensorBoard on port 6006 (pid 26604), started 0:53:33 ago. (Use '!kill 26604' to kill it.)"
      ]
     },
     "metadata": {},
     "output_type": "display_data"
    },
    {
     "data": {
      "text/html": [
       "\n",
       "      <iframe id=\"tensorboard-frame-810df8b66b1cd1e0\" width=\"100%\" height=\"800\" frameborder=\"0\">\n",
       "      </iframe>\n",
       "      <script>\n",
       "        (function() {\n",
       "          const frame = document.getElementById(\"tensorboard-frame-810df8b66b1cd1e0\");\n",
       "          const url = new URL(\"/\", window.location);\n",
       "          const port = 6006;\n",
       "          if (port) {\n",
       "            url.port = port;\n",
       "          }\n",
       "          frame.src = url;\n",
       "        })();\n",
       "      </script>\n",
       "    "
      ],
      "text/plain": [
       "<IPython.core.display.HTML object>"
      ]
     },
     "metadata": {},
     "output_type": "display_data"
    }
   ],
   "source": [
    "%tensorboard --logdir=./my_cifar10_logs --port=6006\n",
    "# open tensorboard"
   ]
  },
  {
   "cell_type": "code",
   "execution_count": 17,
   "id": "decc05d8",
   "metadata": {},
   "outputs": [
    {
     "name": "stdout",
     "output_type": "stream",
     "text": [
      "Epoch 1/100\n",
      "   2/1407 [..............................] - ETA: 1:03 - loss: 2.2010 - accuracy: 0.1719WARNING:tensorflow:Callbacks method `on_train_batch_end` is slow compared to the batch time (batch time: 0.0199s vs `on_train_batch_end` time: 0.0698s). Check your callbacks.\n",
      "1407/1407 [==============================] - 26s 18ms/step - loss: 2.1352 - accuracy: 0.1813 - val_loss: 2.0627 - val_accuracy: 0.2054\n",
      "Epoch 2/100\n",
      "1407/1407 [==============================] - 29s 21ms/step - loss: 2.0722 - accuracy: 0.1974 - val_loss: 2.0506 - val_accuracy: 0.2110\n",
      "Epoch 3/100\n",
      "1407/1407 [==============================] - 29s 21ms/step - loss: 2.0329 - accuracy: 0.2086 - val_loss: 2.0575 - val_accuracy: 0.1988\n",
      "Epoch 4/100\n",
      "1407/1407 [==============================] - 28s 20ms/step - loss: 2.0009 - accuracy: 0.2229 - val_loss: 2.0720 - val_accuracy: 0.2182\n",
      "Epoch 5/100\n",
      "1407/1407 [==============================] - 27s 19ms/step - loss: 1.9966 - accuracy: 0.2202 - val_loss: 2.0502 - val_accuracy: 0.2004\n",
      "Epoch 6/100\n",
      "1407/1407 [==============================] - 29s 20ms/step - loss: 1.9685 - accuracy: 0.2335 - val_loss: 1.9710 - val_accuracy: 0.2224\n",
      "Epoch 7/100\n",
      "1407/1407 [==============================] - 28s 20ms/step - loss: 1.9437 - accuracy: 0.2434 - val_loss: 1.9520 - val_accuracy: 0.2432\n",
      "Epoch 8/100\n",
      "1407/1407 [==============================] - 29s 20ms/step - loss: 1.9623 - accuracy: 0.2324 - val_loss: 1.9934 - val_accuracy: 0.2216\n",
      "Epoch 9/100\n",
      "1407/1407 [==============================] - 28s 20ms/step - loss: 1.9396 - accuracy: 0.2458 - val_loss: 1.9280 - val_accuracy: 0.2530\n",
      "Epoch 10/100\n",
      "1407/1407 [==============================] - 28s 20ms/step - loss: 1.9313 - accuracy: 0.2522 - val_loss: 1.9239 - val_accuracy: 0.2632\n",
      "Epoch 11/100\n",
      "1407/1407 [==============================] - 28s 20ms/step - loss: 1.9134 - accuracy: 0.2555 - val_loss: 1.9267 - val_accuracy: 0.2608\n",
      "Epoch 12/100\n",
      "1407/1407 [==============================] - 31s 22ms/step - loss: 1.9049 - accuracy: 0.2630 - val_loss: 1.9219 - val_accuracy: 0.2784\n",
      "Epoch 13/100\n",
      "1407/1407 [==============================] - 29s 21ms/step - loss: 1.9113 - accuracy: 0.2542 - val_loss: 1.9825 - val_accuracy: 0.2420\n",
      "Epoch 14/100\n",
      "1407/1407 [==============================] - 30s 22ms/step - loss: 1.9281 - accuracy: 0.2449 - val_loss: 1.9528 - val_accuracy: 0.2306\n",
      "Epoch 15/100\n",
      "1407/1407 [==============================] - 28s 20ms/step - loss: 1.8902 - accuracy: 0.2624 - val_loss: 1.9163 - val_accuracy: 0.2494\n",
      "Epoch 16/100\n",
      "1407/1407 [==============================] - 28s 20ms/step - loss: 1.8888 - accuracy: 0.2648 - val_loss: 1.8962 - val_accuracy: 0.2566\n",
      "Epoch 17/100\n",
      "1407/1407 [==============================] - 28s 20ms/step - loss: 1.8862 - accuracy: 0.2639 - val_loss: 1.9846 - val_accuracy: 0.2492\n",
      "Epoch 18/100\n",
      "1407/1407 [==============================] - 28s 20ms/step - loss: 1.8768 - accuracy: 0.2660 - val_loss: 1.8806 - val_accuracy: 0.2678\n",
      "Epoch 19/100\n",
      "1407/1407 [==============================] - 28s 20ms/step - loss: 1.8927 - accuracy: 0.2586 - val_loss: 1.9256 - val_accuracy: 0.2476\n",
      "Epoch 20/100\n",
      "1407/1407 [==============================] - 28s 20ms/step - loss: 1.9166 - accuracy: 0.2584 - val_loss: 1.9226 - val_accuracy: 0.2494\n",
      "Epoch 21/100\n",
      "1407/1407 [==============================] - 29s 20ms/step - loss: 1.8943 - accuracy: 0.2671 - val_loss: 1.9348 - val_accuracy: 0.2538\n",
      "Epoch 22/100\n",
      "1407/1407 [==============================] - 31s 22ms/step - loss: 1.8692 - accuracy: 0.2711 - val_loss: 1.8645 - val_accuracy: 0.2654\n",
      "Epoch 23/100\n",
      "1407/1407 [==============================] - 31s 22ms/step - loss: 1.8847 - accuracy: 0.2626 - val_loss: 1.9237 - val_accuracy: 0.2408\n",
      "Epoch 24/100\n",
      "1407/1407 [==============================] - 31s 22ms/step - loss: 1.9260 - accuracy: 0.2455 - val_loss: 1.8987 - val_accuracy: 0.2634\n",
      "Epoch 25/100\n",
      "1407/1407 [==============================] - 29s 21ms/step - loss: 1.8732 - accuracy: 0.2736 - val_loss: 1.9160 - val_accuracy: 0.2472\n",
      "Epoch 26/100\n",
      "1407/1407 [==============================] - 28s 20ms/step - loss: 1.8740 - accuracy: 0.2736 - val_loss: 1.8776 - val_accuracy: 0.2728\n",
      "Epoch 27/100\n",
      "1407/1407 [==============================] - 28s 20ms/step - loss: 1.8789 - accuracy: 0.2748 - val_loss: 1.9295 - val_accuracy: 0.2588\n",
      "Epoch 28/100\n",
      "1407/1407 [==============================] - 29s 21ms/step - loss: 1.9138 - accuracy: 0.2509 - val_loss: 1.9426 - val_accuracy: 0.2564\n",
      "Epoch 29/100\n",
      "1407/1407 [==============================] - 30s 21ms/step - loss: 1.9139 - accuracy: 0.2541 - val_loss: 1.9532 - val_accuracy: 0.2474\n",
      "Epoch 30/100\n",
      "1407/1407 [==============================] - 30s 21ms/step - loss: 1.9245 - accuracy: 0.2589 - val_loss: 1.9215 - val_accuracy: 0.2594\n",
      "Epoch 31/100\n",
      "1407/1407 [==============================] - 29s 21ms/step - loss: 1.9112 - accuracy: 0.2572 - val_loss: 1.9220 - val_accuracy: 0.2570\n",
      "Epoch 32/100\n",
      "1407/1407 [==============================] - 30s 21ms/step - loss: 1.8619 - accuracy: 0.2795 - val_loss: 1.9035 - val_accuracy: 0.2818\n",
      "Epoch 33/100\n",
      "1407/1407 [==============================] - 30s 21ms/step - loss: 1.9267 - accuracy: 0.2608 - val_loss: 1.9832 - val_accuracy: 0.2508\n",
      "Epoch 34/100\n",
      "1407/1407 [==============================] - 30s 21ms/step - loss: 1.8927 - accuracy: 0.2686 - val_loss: 1.9151 - val_accuracy: 0.2760\n",
      "Epoch 35/100\n",
      "1407/1407 [==============================] - 30s 21ms/step - loss: 1.9254 - accuracy: 0.2520 - val_loss: 1.9445 - val_accuracy: 0.2306\n",
      "Epoch 36/100\n",
      "1407/1407 [==============================] - 30s 21ms/step - loss: 1.9047 - accuracy: 0.2614 - val_loss: 1.8860 - val_accuracy: 0.2724\n",
      "Epoch 37/100\n",
      "1407/1407 [==============================] - 30s 22ms/step - loss: 1.8939 - accuracy: 0.2627 - val_loss: 1.9015 - val_accuracy: 0.2556\n",
      "Epoch 38/100\n",
      "1407/1407 [==============================] - 31s 22ms/step - loss: 1.9028 - accuracy: 0.2507 - val_loss: 1.8954 - val_accuracy: 0.2608\n",
      "Epoch 39/100\n",
      "1407/1407 [==============================] - 30s 22ms/step - loss: 1.8759 - accuracy: 0.2617 - val_loss: 1.9028 - val_accuracy: 0.2632\n",
      "Epoch 40/100\n",
      "1407/1407 [==============================] - 30s 22ms/step - loss: 1.8779 - accuracy: 0.2651 - val_loss: 1.8877 - val_accuracy: 0.2606\n",
      "Epoch 41/100\n",
      "1407/1407 [==============================] - 31s 22ms/step - loss: 1.8826 - accuracy: 0.2623 - val_loss: 1.9798 - val_accuracy: 0.2530\n",
      "Epoch 42/100\n",
      "1407/1407 [==============================] - 30s 21ms/step - loss: 1.9175 - accuracy: 0.2464 - val_loss: 1.9328 - val_accuracy: 0.2510\n"
     ]
    },
    {
     "data": {
      "text/plain": [
       "<tensorflow.python.keras.callbacks.History at 0x1dd0eeed310>"
      ]
     },
     "execution_count": 17,
     "metadata": {},
     "output_type": "execute_result"
    }
   ],
   "source": [
    "model.fit(X_train, y_train, epochs=100, validation_data=(X_valid, y_valid), callbacks = callbacks)\n",
    "# try epoch 20 times first"
   ]
  },
  {
   "cell_type": "code",
   "execution_count": 18,
   "id": "652391e1",
   "metadata": {},
   "outputs": [
    {
     "name": "stdout",
     "output_type": "stream",
     "text": [
      "157/157 [==============================] - 1s 5ms/step - loss: 1.8645 - accuracy: 0.1366\n"
     ]
    },
    {
     "data": {
      "text/plain": [
       "[1.8645490407943726, 0.13660000264644623]"
      ]
     },
     "execution_count": 18,
     "metadata": {},
     "output_type": "execute_result"
    }
   ],
   "source": [
    "model = keras.models.load_model(\"my_cifar10_model.h5\")\n",
    "model.evaluate(X_valid, y_valid)\n",
    "# not really good"
   ]
  },
  {
   "cell_type": "code",
   "execution_count": 19,
   "id": "6f17818c",
   "metadata": {},
   "outputs": [],
   "source": [
    "# try adding Batch Normalization and compare the learning curves\n",
    "keras.backend.clear_session()\n",
    "tf.random.set_seed(42)\n",
    "np.random.seed(42)"
   ]
  },
  {
   "cell_type": "code",
   "execution_count": 20,
   "id": "bc12973e",
   "metadata": {},
   "outputs": [],
   "source": [
    "model = keras.models.Sequential()\n",
    "model.add(keras.layers.Flatten(input_shape=[32, 32, 3]))\n",
    "model.add(keras.layers.BatchNormalization())\n",
    "# add batchnormalization after"
   ]
  },
  {
   "cell_type": "code",
   "execution_count": 22,
   "id": "5fb1e828",
   "metadata": {},
   "outputs": [],
   "source": [
    "for j in range(20):\n",
    "    model.add(keras.layers.Dense(100, kernel_initializer=\"he_normal\"))\n",
    "    model.add(keras.layers.BatchNormalization())\n",
    "    model.add(keras.layers.Activation(\"elu\"))\n",
    "model.add(keras.layers.Dense(10, activation='softmax'))    "
   ]
  },
  {
   "cell_type": "code",
   "execution_count": 23,
   "id": "676957c5",
   "metadata": {},
   "outputs": [],
   "source": [
    "# still use nadar as activation\n",
    "optimizer = keras.optimizers.Nadam(lr=5e-4)\n",
    "model.compile(loss=\"sparse_categorical_crossentropy\",\n",
    "              optimizer=optimizer,\n",
    "              metrics=[\"accuracy\"])"
   ]
  },
  {
   "cell_type": "code",
   "execution_count": 24,
   "id": "61efe6c3",
   "metadata": {},
   "outputs": [],
   "source": [
    "# still early stopping the differnece is that we use batchnormalization\n",
    "early_stopping_cb = keras.callbacks.EarlyStopping(patience=20)\n",
    "model_checkpoint_cb = keras.callbacks.ModelCheckpoint(\"my_cifar10_bn_model.h5\", save_best_only=True)\n",
    "run_index = 1 # increment every time you train the model\n",
    "run_logdir = os.path.join(os.curdir, \"my_cifar10_logs\", \"run_bn_{:03d}\".format(run_index))\n",
    "tensorboard_cb = keras.callbacks.TensorBoard(run_logdir)\n",
    "callbacks = [early_stopping_cb, model_checkpoint_cb, tensorboard_cb]"
   ]
  },
  {
   "cell_type": "code",
   "execution_count": 25,
   "id": "2cc7d709",
   "metadata": {},
   "outputs": [
    {
     "name": "stdout",
     "output_type": "stream",
     "text": [
      "Epoch 1/100\n",
      "   2/1407 [..............................] - ETA: 2:51:50 - loss: 2.7708 - accuracy: 0.1250WARNING:tensorflow:Callbacks method `on_train_batch_end` is slow compared to the batch time (batch time: 0.0253s vs `on_train_batch_end` time: 14.6502s). Check your callbacks.\n",
      "1407/1407 [==============================] - 45s 32ms/step - loss: 1.9873 - accuracy: 0.2812 - val_loss: 1.8169 - val_accuracy: 0.3580\n",
      "Epoch 2/100\n",
      "1407/1407 [==============================] - 30s 21ms/step - loss: 1.7985 - accuracy: 0.3583 - val_loss: 1.7098 - val_accuracy: 0.3898\n",
      "Epoch 3/100\n",
      "1407/1407 [==============================] - 30s 21ms/step - loss: 1.7136 - accuracy: 0.3895 - val_loss: 1.7063 - val_accuracy: 0.3998\n",
      "Epoch 4/100\n",
      "1407/1407 [==============================] - 30s 21ms/step - loss: 1.6631 - accuracy: 0.4092 - val_loss: 1.7090 - val_accuracy: 0.3892\n",
      "Epoch 5/100\n",
      "1407/1407 [==============================] - 30s 21ms/step - loss: 1.6182 - accuracy: 0.4242 - val_loss: 1.5813 - val_accuracy: 0.4432\n",
      "Epoch 6/100\n",
      "1407/1407 [==============================] - 31s 22ms/step - loss: 1.5782 - accuracy: 0.4404 - val_loss: 1.5322 - val_accuracy: 0.4464\n",
      "Epoch 7/100\n",
      "1407/1407 [==============================] - 30s 21ms/step - loss: 1.5408 - accuracy: 0.4522 - val_loss: 1.5083 - val_accuracy: 0.4590\n",
      "Epoch 8/100\n",
      "1407/1407 [==============================] - 31s 22ms/step - loss: 1.5058 - accuracy: 0.4672 - val_loss: 1.4708 - val_accuracy: 0.4674\n",
      "Epoch 9/100\n",
      "1407/1407 [==============================] - 31s 22ms/step - loss: 1.4799 - accuracy: 0.4792 - val_loss: 1.4916 - val_accuracy: 0.4692\n",
      "Epoch 10/100\n",
      "1407/1407 [==============================] - 31s 22ms/step - loss: 1.4548 - accuracy: 0.4834 - val_loss: 1.4328 - val_accuracy: 0.4926\n",
      "Epoch 11/100\n",
      "1407/1407 [==============================] - 33s 24ms/step - loss: 1.4338 - accuracy: 0.4900 - val_loss: 1.4101 - val_accuracy: 0.5052\n",
      "Epoch 12/100\n",
      "1407/1407 [==============================] - 29s 21ms/step - loss: 1.4096 - accuracy: 0.5033 - val_loss: 1.4647 - val_accuracy: 0.4726\n",
      "Epoch 13/100\n",
      "1407/1407 [==============================] - 29s 20ms/step - loss: 1.3912 - accuracy: 0.5077 - val_loss: 1.4432 - val_accuracy: 0.4866\n",
      "Epoch 14/100\n",
      "1407/1407 [==============================] - 29s 20ms/step - loss: 1.3706 - accuracy: 0.5171 - val_loss: 1.4001 - val_accuracy: 0.5052\n",
      "Epoch 15/100\n",
      "1407/1407 [==============================] - 29s 20ms/step - loss: 1.3519 - accuracy: 0.5228 - val_loss: 1.3944 - val_accuracy: 0.5068\n",
      "Epoch 16/100\n",
      "1407/1407 [==============================] - 30s 21ms/step - loss: 1.3396 - accuracy: 0.5280 - val_loss: 1.3806 - val_accuracy: 0.5212\n",
      "Epoch 17/100\n",
      "1407/1407 [==============================] - 30s 21ms/step - loss: 1.3175 - accuracy: 0.5375 - val_loss: 1.3852 - val_accuracy: 0.5142\n",
      "Epoch 18/100\n",
      "1407/1407 [==============================] - 30s 21ms/step - loss: 1.3043 - accuracy: 0.5399 - val_loss: 1.4251 - val_accuracy: 0.5060\n",
      "Epoch 19/100\n",
      "1407/1407 [==============================] - 30s 21ms/step - loss: 1.2853 - accuracy: 0.5483 - val_loss: 1.4168 - val_accuracy: 0.4986\n",
      "Epoch 20/100\n",
      "1407/1407 [==============================] - 30s 21ms/step - loss: 1.2709 - accuracy: 0.5554 - val_loss: 1.3786 - val_accuracy: 0.5176\n",
      "Epoch 21/100\n",
      "1407/1407 [==============================] - 30s 21ms/step - loss: 1.2587 - accuracy: 0.5557 - val_loss: 1.4518 - val_accuracy: 0.5024\n",
      "Epoch 22/100\n",
      "1407/1407 [==============================] - 31s 22ms/step - loss: 1.2484 - accuracy: 0.5643 - val_loss: 1.3955 - val_accuracy: 0.5176\n",
      "Epoch 23/100\n",
      "1407/1407 [==============================] - 31s 22ms/step - loss: 1.2338 - accuracy: 0.5693 - val_loss: 1.3709 - val_accuracy: 0.5260\n",
      "Epoch 24/100\n",
      "1407/1407 [==============================] - 30s 21ms/step - loss: 1.2167 - accuracy: 0.5724 - val_loss: 1.3603 - val_accuracy: 0.5278\n",
      "Epoch 25/100\n",
      "1407/1407 [==============================] - 30s 21ms/step - loss: 1.2095 - accuracy: 0.5765 - val_loss: 1.3784 - val_accuracy: 0.5300\n",
      "Epoch 26/100\n",
      "1407/1407 [==============================] - 31s 22ms/step - loss: 1.1957 - accuracy: 0.5817 - val_loss: 1.3470 - val_accuracy: 0.5338\n",
      "Epoch 27/100\n",
      "1407/1407 [==============================] - 30s 21ms/step - loss: 1.1790 - accuracy: 0.5870 - val_loss: 1.3976 - val_accuracy: 0.5264\n",
      "Epoch 28/100\n",
      "1407/1407 [==============================] - 31s 22ms/step - loss: 1.1775 - accuracy: 0.5893 - val_loss: 1.3573 - val_accuracy: 0.5308\n",
      "Epoch 29/100\n",
      "1407/1407 [==============================] - 31s 22ms/step - loss: 1.1610 - accuracy: 0.5947 - val_loss: 1.3634 - val_accuracy: 0.5254\n",
      "Epoch 30/100\n",
      "1407/1407 [==============================] - 32s 22ms/step - loss: 1.1500 - accuracy: 0.5980 - val_loss: 1.4015 - val_accuracy: 0.5210\n",
      "Epoch 31/100\n",
      "1407/1407 [==============================] - 31s 22ms/step - loss: 1.1413 - accuracy: 0.6004 - val_loss: 1.3768 - val_accuracy: 0.5306\n",
      "Epoch 32/100\n",
      "1407/1407 [==============================] - 31s 22ms/step - loss: 1.1269 - accuracy: 0.6057 - val_loss: 1.4157 - val_accuracy: 0.5158\n",
      "Epoch 33/100\n",
      "1407/1407 [==============================] - 31s 22ms/step - loss: 1.1211 - accuracy: 0.6074 - val_loss: 1.3748 - val_accuracy: 0.5298\n",
      "Epoch 34/100\n",
      "1407/1407 [==============================] - 31s 22ms/step - loss: 1.1103 - accuracy: 0.6144 - val_loss: 1.3448 - val_accuracy: 0.5338\n",
      "Epoch 35/100\n",
      "1407/1407 [==============================] - 30s 22ms/step - loss: 1.0987 - accuracy: 0.6159 - val_loss: 1.4189 - val_accuracy: 0.5152\n",
      "Epoch 36/100\n",
      "1407/1407 [==============================] - 31s 22ms/step - loss: 1.0920 - accuracy: 0.6190 - val_loss: 1.3603 - val_accuracy: 0.5342\n",
      "Epoch 37/100\n",
      "1407/1407 [==============================] - 31s 22ms/step - loss: 1.0784 - accuracy: 0.6215 - val_loss: 1.3691 - val_accuracy: 0.5412\n",
      "Epoch 38/100\n",
      "1407/1407 [==============================] - 31s 22ms/step - loss: 1.0730 - accuracy: 0.6263 - val_loss: 1.4002 - val_accuracy: 0.5372\n",
      "Epoch 39/100\n",
      "1407/1407 [==============================] - 31s 22ms/step - loss: 1.0629 - accuracy: 0.6269 - val_loss: 1.3960 - val_accuracy: 0.5304\n",
      "Epoch 40/100\n",
      "1407/1407 [==============================] - 30s 22ms/step - loss: 1.0530 - accuracy: 0.6331 - val_loss: 1.3847 - val_accuracy: 0.5336\n",
      "Epoch 41/100\n",
      "1407/1407 [==============================] - 31s 22ms/step - loss: 1.0449 - accuracy: 0.6371 - val_loss: 1.3772 - val_accuracy: 0.5450\n",
      "Epoch 42/100\n",
      "1407/1407 [==============================] - 31s 22ms/step - loss: 1.0307 - accuracy: 0.6402 - val_loss: 1.4048 - val_accuracy: 0.5208\n",
      "Epoch 43/100\n",
      "1407/1407 [==============================] - 31s 22ms/step - loss: 1.0297 - accuracy: 0.6427 - val_loss: 1.3929 - val_accuracy: 0.5334\n",
      "Epoch 44/100\n",
      "1407/1407 [==============================] - 31s 22ms/step - loss: 1.0206 - accuracy: 0.6447 - val_loss: 1.4164 - val_accuracy: 0.5232\n",
      "Epoch 45/100\n",
      "1407/1407 [==============================] - 31s 22ms/step - loss: 1.0148 - accuracy: 0.6469 - val_loss: 1.4069 - val_accuracy: 0.5256\n",
      "Epoch 46/100\n",
      "1407/1407 [==============================] - 30s 21ms/step - loss: 1.0057 - accuracy: 0.6506 - val_loss: 1.3865 - val_accuracy: 0.5370\n",
      "Epoch 47/100\n",
      "1407/1407 [==============================] - 30s 21ms/step - loss: 0.9944 - accuracy: 0.6534 - val_loss: 1.4331 - val_accuracy: 0.5224\n",
      "Epoch 48/100\n",
      "1407/1407 [==============================] - 30s 22ms/step - loss: 0.9889 - accuracy: 0.6564 - val_loss: 1.3992 - val_accuracy: 0.5262\n",
      "Epoch 49/100\n",
      "1407/1407 [==============================] - 30s 21ms/step - loss: 0.9824 - accuracy: 0.6582 - val_loss: 1.3972 - val_accuracy: 0.5284\n",
      "Epoch 50/100\n",
      "1407/1407 [==============================] - 30s 21ms/step - loss: 0.9767 - accuracy: 0.6599 - val_loss: 1.3843 - val_accuracy: 0.5380\n",
      "Epoch 51/100\n",
      "1407/1407 [==============================] - 30s 22ms/step - loss: 0.9708 - accuracy: 0.6606 - val_loss: 1.3940 - val_accuracy: 0.5326\n",
      "Epoch 52/100\n",
      "1407/1407 [==============================] - 31s 22ms/step - loss: 0.9592 - accuracy: 0.6657 - val_loss: 1.4215 - val_accuracy: 0.5360\n",
      "Epoch 53/100\n",
      "1407/1407 [==============================] - 31s 22ms/step - loss: 0.9533 - accuracy: 0.6696 - val_loss: 1.4270 - val_accuracy: 0.5240\n",
      "Epoch 54/100\n",
      "1407/1407 [==============================] - 30s 21ms/step - loss: 0.9503 - accuracy: 0.6684 - val_loss: 1.3993 - val_accuracy: 0.5320\n"
     ]
    },
    {
     "data": {
      "text/plain": [
       "<tensorflow.python.keras.callbacks.History at 0x1dd427e3e20>"
      ]
     },
     "execution_count": 25,
     "metadata": {},
     "output_type": "execute_result"
    }
   ],
   "source": [
    "model.fit(X_train, y_train, epochs=100, validation_data=(X_valid, y_valid), callbacks=callbacks)"
   ]
  },
  {
   "cell_type": "code",
   "execution_count": 26,
   "id": "abfb6b2f",
   "metadata": {},
   "outputs": [
    {
     "name": "stdout",
     "output_type": "stream",
     "text": [
      "157/157 [==============================] - 0s 3ms/step - loss: 1.3448 - accuracy: 0.1154\n"
     ]
    },
    {
     "data": {
      "text/plain": [
       "[1.3448237180709839, 0.11540000140666962]"
      ]
     },
     "execution_count": 26,
     "metadata": {},
     "output_type": "execute_result"
    }
   ],
   "source": [
    "model = keras.models.load_model(\"my_cifar10_bn_model.h5\")\n",
    "model.evaluate(X_valid, y_valid)"
   ]
  },
  {
   "cell_type": "code",
   "execution_count": 37,
   "id": "0f9f5234",
   "metadata": {},
   "outputs": [],
   "source": [
    "# replacing Batch Normalization with SELU, and make the necessary adjustements to ensure the network self-normalizes\n",
    "keras.backend.clear_session()\n",
    "tf.random.set_seed(42)\n",
    "np.random.seed(42)"
   ]
  },
  {
   "cell_type": "code",
   "execution_count": 38,
   "id": "74188b88",
   "metadata": {},
   "outputs": [],
   "source": [
    "model = keras.models.Sequential()\n",
    "model.add(keras.layers.Flatten(input_shape=[32, 32, 3]))\n",
    "for _ in range(20):\n",
    "    model.add(keras.layers.Dense(100,\n",
    "                                 kernel_initializer=\"lecun_normal\",\n",
    "                                 activation=\"selu\"))   # SELU\n",
    "model.add(keras.layers.Dense(10, activation=\"softmax\"))"
   ]
  },
  {
   "cell_type": "code",
   "execution_count": 39,
   "id": "f6b27e14",
   "metadata": {},
   "outputs": [],
   "source": [
    "optimizer = keras.optimizers.Nadam(lr=7e-4)\n",
    "model.compile(loss=\"sparse_categorical_crossentropy\",\n",
    "              optimizer=optimizer,\n",
    "              metrics=[\"accuracy\"])"
   ]
  },
  {
   "cell_type": "code",
   "execution_count": 40,
   "id": "9b31766c",
   "metadata": {},
   "outputs": [],
   "source": [
    "early_stopping_cb = keras.callbacks.EarlyStopping(patience=20)\n",
    "model_checkpoint_cb = keras.callbacks.ModelCheckpoint(\"my_cifar10_selu_model.h5\", save_best_only=True) # save the best result\n",
    "run_index = 1 # increment every time you train the model\n",
    "run_logdir = os.path.join(os.curdir, \"my_cifar10_logs\", \"run_selu_{:03d}\".format(run_index))\n",
    "tensorboard_cb = keras.callbacks.TensorBoard(run_logdir)\n",
    "callbacks = [early_stopping_cb, model_checkpoint_cb, tensorboard_cb]"
   ]
  },
  {
   "cell_type": "code",
   "execution_count": 41,
   "id": "c1eba2e0",
   "metadata": {},
   "outputs": [],
   "source": [
    "# make the adjustment for the input\n",
    "#　normalized\n",
    "X_means = X_train.mean(axis=0)\n",
    "X_stds = X_train.std(axis=0)\n",
    "X_train_scaled = (X_train - X_means) / X_stds\n",
    "X_valid_scaled = (X_valid - X_means) / X_stds\n",
    "X_test_scaled = (X_test_full - X_means) / X_stds\n"
   ]
  },
  {
   "cell_type": "code",
   "execution_count": 42,
   "id": "b7410492",
   "metadata": {},
   "outputs": [
    {
     "name": "stdout",
     "output_type": "stream",
     "text": [
      "Epoch 1/100\n",
      "   2/1407 [..............................] - ETA: 50:25 - loss: 3.0440 - accuracy: 0.1094WARNING:tensorflow:Callbacks method `on_train_batch_end` is slow compared to the batch time (batch time: 0.0140s vs `on_train_batch_end` time: 4.2830s). Check your callbacks.\n",
      "1407/1407 [==============================] - 18s 13ms/step - loss: 1.9443 - accuracy: 0.3040 - val_loss: 1.8583 - val_accuracy: 0.3340\n",
      "Epoch 2/100\n",
      "1407/1407 [==============================] - 13s 9ms/step - loss: 1.7218 - accuracy: 0.3885 - val_loss: 1.7850 - val_accuracy: 0.3404\n",
      "Epoch 3/100\n",
      "1407/1407 [==============================] - 13s 9ms/step - loss: 1.6263 - accuracy: 0.4248 - val_loss: 1.6702 - val_accuracy: 0.4008\n",
      "Epoch 4/100\n",
      "1407/1407 [==============================] - 13s 9ms/step - loss: 1.5572 - accuracy: 0.4510 - val_loss: 1.6340 - val_accuracy: 0.4370\n",
      "Epoch 5/100\n",
      "1407/1407 [==============================] - 13s 9ms/step - loss: 1.4963 - accuracy: 0.4760 - val_loss: 1.5613 - val_accuracy: 0.4614\n",
      "Epoch 6/100\n",
      "1407/1407 [==============================] - 13s 9ms/step - loss: 1.4497 - accuracy: 0.4937 - val_loss: 1.5272 - val_accuracy: 0.4688\n",
      "Epoch 7/100\n",
      "1407/1407 [==============================] - 13s 9ms/step - loss: 1.4066 - accuracy: 0.5096 - val_loss: 1.5067 - val_accuracy: 0.4756\n",
      "Epoch 8/100\n",
      "1407/1407 [==============================] - 13s 9ms/step - loss: 1.3622 - accuracy: 0.5257 - val_loss: 1.5054 - val_accuracy: 0.4806\n",
      "Epoch 9/100\n",
      "1407/1407 [==============================] - 13s 9ms/step - loss: 1.3370 - accuracy: 0.5414 - val_loss: 1.5023 - val_accuracy: 0.4822\n",
      "Epoch 10/100\n",
      "1407/1407 [==============================] - 13s 9ms/step - loss: 1.3042 - accuracy: 0.5486 - val_loss: 1.4951 - val_accuracy: 0.4840\n",
      "Epoch 11/100\n",
      "1407/1407 [==============================] - 13s 9ms/step - loss: 1.2733 - accuracy: 0.5580 - val_loss: 1.5094 - val_accuracy: 0.4926\n",
      "Epoch 12/100\n",
      "1407/1407 [==============================] - 13s 9ms/step - loss: 1.2456 - accuracy: 0.5708 - val_loss: 1.4810 - val_accuracy: 0.4890\n",
      "Epoch 13/100\n",
      "1407/1407 [==============================] - 13s 9ms/step - loss: 1.2178 - accuracy: 0.5800 - val_loss: 1.5385 - val_accuracy: 0.4870\n",
      "Epoch 14/100\n",
      "1407/1407 [==============================] - 13s 9ms/step - loss: 1.1910 - accuracy: 0.5904 - val_loss: 1.4737 - val_accuracy: 0.5104\n",
      "Epoch 15/100\n",
      "1407/1407 [==============================] - 13s 9ms/step - loss: 1.1656 - accuracy: 0.5983 - val_loss: 1.5406 - val_accuracy: 0.4942\n",
      "Epoch 16/100\n",
      "1407/1407 [==============================] - 13s 10ms/step - loss: 1.1353 - accuracy: 0.6123 - val_loss: 1.5337 - val_accuracy: 0.5050\n",
      "Epoch 17/100\n",
      "1407/1407 [==============================] - 13s 9ms/step - loss: 1.1180 - accuracy: 0.6155 - val_loss: 1.5333 - val_accuracy: 0.5152\n",
      "Epoch 18/100\n",
      "1407/1407 [==============================] - 14s 10ms/step - loss: 1.0959 - accuracy: 0.6261 - val_loss: 1.5163 - val_accuracy: 0.5048\n",
      "Epoch 19/100\n",
      "1407/1407 [==============================] - 13s 9ms/step - loss: 1.2663 - accuracy: 0.5729 - val_loss: 1.6027 - val_accuracy: 0.4568\n",
      "Epoch 20/100\n",
      "1407/1407 [==============================] - 13s 9ms/step - loss: 1.1993 - accuracy: 0.5863 - val_loss: 1.5097 - val_accuracy: 0.4980\n",
      "Epoch 21/100\n",
      "1407/1407 [==============================] - 13s 9ms/step - loss: 1.0724 - accuracy: 0.6333 - val_loss: 1.5321 - val_accuracy: 0.5130\n",
      "Epoch 22/100\n",
      "1407/1407 [==============================] - 13s 9ms/step - loss: 1.0276 - accuracy: 0.6506 - val_loss: 1.5581 - val_accuracy: 0.5080\n",
      "Epoch 23/100\n",
      "1407/1407 [==============================] - 13s 9ms/step - loss: 1.0171 - accuracy: 0.6512 - val_loss: 1.5010 - val_accuracy: 0.5086\n",
      "Epoch 24/100\n",
      "1407/1407 [==============================] - 14s 10ms/step - loss: 1.0103 - accuracy: 0.6577 - val_loss: 1.5608 - val_accuracy: 0.5034\n",
      "Epoch 25/100\n",
      "1407/1407 [==============================] - 13s 9ms/step - loss: 0.9969 - accuracy: 0.6631 - val_loss: 1.5269 - val_accuracy: 0.5112\n",
      "Epoch 26/100\n",
      "1407/1407 [==============================] - 13s 9ms/step - loss: 0.9885 - accuracy: 0.6640 - val_loss: 1.5850 - val_accuracy: 0.5092\n",
      "Epoch 27/100\n",
      "1407/1407 [==============================] - 13s 9ms/step - loss: 0.9621 - accuracy: 0.6723 - val_loss: 1.5720 - val_accuracy: 0.4992\n",
      "Epoch 28/100\n",
      "1407/1407 [==============================] - 13s 9ms/step - loss: 0.9735 - accuracy: 0.6722 - val_loss: 1.5835 - val_accuracy: 0.5004\n",
      "Epoch 29/100\n",
      "1407/1407 [==============================] - 13s 9ms/step - loss: 17.2897 - accuracy: 0.6759 - val_loss: 2.1597 - val_accuracy: 0.4036\n",
      "Epoch 30/100\n",
      "1407/1407 [==============================] - 13s 9ms/step - loss: 1.2429 - accuracy: 0.5760 - val_loss: 1.5567 - val_accuracy: 0.4828\n",
      "Epoch 31/100\n",
      "1407/1407 [==============================] - 13s 9ms/step - loss: 1.0647 - accuracy: 0.6311 - val_loss: 1.5524 - val_accuracy: 0.4908\n",
      "Epoch 32/100\n",
      "1407/1407 [==============================] - 13s 9ms/step - loss: 1.0657 - accuracy: 0.6510 - val_loss: 1.5743 - val_accuracy: 0.4878\n",
      "Epoch 33/100\n",
      "1407/1407 [==============================] - 13s 9ms/step - loss: 0.9853 - accuracy: 0.6602 - val_loss: 1.6171 - val_accuracy: 0.4984\n",
      "Epoch 34/100\n",
      "1407/1407 [==============================] - 13s 9ms/step - loss: 0.9456 - accuracy: 0.6778 - val_loss: 1.6425 - val_accuracy: 0.4960\n",
      "157/157 [==============================] - 0s 2ms/step - loss: 1.4737 - accuracy: 0.1064\n"
     ]
    },
    {
     "data": {
      "text/plain": [
       "[1.4737498760223389, 0.10639999806880951]"
      ]
     },
     "execution_count": 42,
     "metadata": {},
     "output_type": "execute_result"
    }
   ],
   "source": [
    "model.fit(X_train_scaled, y_train, epochs=100, validation_data=(X_valid_scaled, y_valid), callbacks=callbacks)\n",
    "model = keras.models.load_model(\"my_cifar10_selu_model.h5\")\n",
    "model.evaluate(X_valid_scaled, y_valid)"
   ]
  },
  {
   "cell_type": "code",
   "execution_count": 43,
   "id": "b63f23ac",
   "metadata": {},
   "outputs": [
    {
     "name": "stdout",
     "output_type": "stream",
     "text": [
      "157/157 [==============================] - 0s 2ms/step - loss: 1.4737 - accuracy: 0.1064: 0s - loss: 1.4708 - accuracy: 0.10\n"
     ]
    },
    {
     "data": {
      "text/plain": [
       "[1.4737498760223389, 0.10639999806880951]"
      ]
     },
     "execution_count": 43,
     "metadata": {},
     "output_type": "execute_result"
    }
   ],
   "source": [
    "model = keras.models.load_model(\"my_cifar10_selu_model.h5\")\n",
    "model.evaluate(X_valid_scaled, y_valid)"
   ]
  },
  {
   "cell_type": "code",
   "execution_count": 44,
   "id": "555deb39",
   "metadata": {},
   "outputs": [],
   "source": [
    "# Try regularizing the model with alpha dropout. \n",
    "# Then, without retraining your model, see if you can achieve better accuracy using MC Dropout\n",
    "keras.backend.clear_session()\n",
    "tf.random.set_seed(42)\n",
    "np.random.seed(42)\n",
    "\n",
    "model = keras.models.Sequential()\n",
    "model.add(keras.layers.Flatten(input_shape=[32, 32, 3]))\n",
    "for _ in range(20):\n",
    "    model.add(keras.layers.Dense(100,\n",
    "                                 kernel_initializer=\"lecun_normal\",\n",
    "                                 activation=\"selu\"))\n",
    "\n",
    "model.add(keras.layers.AlphaDropout(rate=0.1))\n",
    "model.add(keras.layers.Dense(10, activation=\"softmax\"))"
   ]
  },
  {
   "cell_type": "code",
   "execution_count": 45,
   "id": "b4cea972",
   "metadata": {},
   "outputs": [],
   "source": [
    "optimizer = keras.optimizers.Nadam(lr=5e-4)\n",
    "model.compile(loss=\"sparse_categorical_crossentropy\",\n",
    "              optimizer=optimizer,\n",
    "              metrics=[\"accuracy\"])\n"
   ]
  },
  {
   "cell_type": "code",
   "execution_count": 46,
   "id": "7225c6fe",
   "metadata": {},
   "outputs": [],
   "source": [
    "early_stopping_cb = keras.callbacks.EarlyStopping(patience=20)\n",
    "model_checkpoint_cb = keras.callbacks.ModelCheckpoint(\"my_cifar10_alpha_dropout_model.h5\", save_best_only=True)\n",
    "run_index = 1 # increment every time you train the model\n",
    "run_logdir = os.path.join(os.curdir, \"my_cifar10_logs\", \"run_alpha_dropout_{:03d}\".format(run_index))\n",
    "tensorboard_cb = keras.callbacks.TensorBoard(run_logdir)\n",
    "callbacks = [early_stopping_cb, model_checkpoint_cb, tensorboard_cb]"
   ]
  },
  {
   "cell_type": "code",
   "execution_count": 47,
   "id": "b9a15938",
   "metadata": {},
   "outputs": [],
   "source": [
    "X_means = X_train.mean(axis=0)\n",
    "X_stds = X_train.std(axis=0)\n",
    "X_train_scaled = (X_train - X_means) / X_stds\n",
    "X_valid_scaled = (X_valid - X_means) / X_stds\n",
    "X_test_scaled = (X_test_full - X_means) / X_stds"
   ]
  },
  {
   "cell_type": "code",
   "execution_count": 48,
   "id": "4f7817cf",
   "metadata": {},
   "outputs": [
    {
     "name": "stdout",
     "output_type": "stream",
     "text": [
      "Epoch 1/100\n",
      "   2/1407 [..............................] - ETA: 53:39 - loss: 2.9857 - accuracy: 0.0938WARNING:tensorflow:Callbacks method `on_train_batch_end` is slow compared to the batch time (batch time: 0.0130s vs `on_train_batch_end` time: 4.5621s). Check your callbacks.\n",
      "1407/1407 [==============================] - 17s 12ms/step - loss: 1.8883 - accuracy: 0.3302 - val_loss: 1.7632 - val_accuracy: 0.3644\n",
      "Epoch 2/100\n",
      "1407/1407 [==============================] - 14s 10ms/step - loss: 1.6643 - accuracy: 0.4127 - val_loss: 1.6120 - val_accuracy: 0.4234\n",
      "Epoch 3/100\n",
      "1407/1407 [==============================] - 13s 9ms/step - loss: 1.5732 - accuracy: 0.4486 - val_loss: 1.6175 - val_accuracy: 0.4288\n",
      "Epoch 4/100\n",
      "1407/1407 [==============================] - 13s 9ms/step - loss: 1.5022 - accuracy: 0.4716 - val_loss: 1.6133 - val_accuracy: 0.4586\n",
      "Epoch 5/100\n",
      "1407/1407 [==============================] - 12s 9ms/step - loss: 1.4453 - accuracy: 0.4940 - val_loss: 1.6009 - val_accuracy: 0.4648\n",
      "Epoch 6/100\n",
      "1407/1407 [==============================] - 12s 9ms/step - loss: 1.3949 - accuracy: 0.5118 - val_loss: 1.5267 - val_accuracy: 0.4866\n",
      "Epoch 7/100\n",
      "1407/1407 [==============================] - 12s 8ms/step - loss: 1.3487 - accuracy: 0.5327 - val_loss: 1.5520 - val_accuracy: 0.4744\n",
      "Epoch 8/100\n",
      "1407/1407 [==============================] - 12s 9ms/step - loss: 1.3109 - accuracy: 0.5449 - val_loss: 1.4675 - val_accuracy: 0.5086\n",
      "Epoch 9/100\n",
      "1407/1407 [==============================] - 12s 9ms/step - loss: 1.2774 - accuracy: 0.5574 - val_loss: 1.4779 - val_accuracy: 0.5040\n",
      "Epoch 10/100\n",
      "1407/1407 [==============================] - 13s 9ms/step - loss: 1.2442 - accuracy: 0.5685 - val_loss: 1.4969 - val_accuracy: 0.5074\n",
      "Epoch 11/100\n",
      "1407/1407 [==============================] - 12s 9ms/step - loss: 1.2080 - accuracy: 0.5820 - val_loss: 1.5578 - val_accuracy: 0.4952\n",
      "Epoch 12/100\n",
      "1407/1407 [==============================] - 13s 9ms/step - loss: 1.1804 - accuracy: 0.5919 - val_loss: 1.5250 - val_accuracy: 0.5114\n",
      "Epoch 13/100\n",
      "1407/1407 [==============================] - 13s 9ms/step - loss: 1.1460 - accuracy: 0.6037 - val_loss: 1.5494 - val_accuracy: 0.5116\n",
      "Epoch 14/100\n",
      "1407/1407 [==============================] - 13s 9ms/step - loss: 1.1235 - accuracy: 0.6114 - val_loss: 1.5609 - val_accuracy: 0.5098\n",
      "Epoch 15/100\n",
      "1407/1407 [==============================] - 13s 9ms/step - loss: 1.0957 - accuracy: 0.6214 - val_loss: 1.5729 - val_accuracy: 0.5056\n",
      "Epoch 16/100\n",
      "1407/1407 [==============================] - 13s 9ms/step - loss: 1.0695 - accuracy: 0.6320 - val_loss: 1.6095 - val_accuracy: 0.5076\n",
      "Epoch 17/100\n",
      "1407/1407 [==============================] - 13s 9ms/step - loss: 1.0470 - accuracy: 0.6403 - val_loss: 1.6696 - val_accuracy: 0.4936\n",
      "Epoch 18/100\n",
      "1407/1407 [==============================] - 13s 9ms/step - loss: 1.0300 - accuracy: 0.6444 - val_loss: 1.6394 - val_accuracy: 0.5036\n",
      "Epoch 19/100\n",
      "1407/1407 [==============================] - 13s 9ms/step - loss: 1.0050 - accuracy: 0.6535 - val_loss: 1.7085 - val_accuracy: 0.5212\n",
      "Epoch 20/100\n",
      "1407/1407 [==============================] - 13s 9ms/step - loss: 0.9878 - accuracy: 0.6625 - val_loss: 1.7470 - val_accuracy: 0.5026\n",
      "Epoch 21/100\n",
      "1407/1407 [==============================] - 13s 9ms/step - loss: 0.9672 - accuracy: 0.6694 - val_loss: 1.7220 - val_accuracy: 0.5086\n",
      "Epoch 22/100\n",
      "1407/1407 [==============================] - 13s 9ms/step - loss: 0.9496 - accuracy: 0.6753 - val_loss: 1.7208 - val_accuracy: 0.5038\n",
      "Epoch 23/100\n",
      "1407/1407 [==============================] - 13s 9ms/step - loss: 0.9224 - accuracy: 0.6855 - val_loss: 1.7132 - val_accuracy: 0.4990\n",
      "Epoch 24/100\n",
      "1407/1407 [==============================] - 13s 9ms/step - loss: 0.9104 - accuracy: 0.6892 - val_loss: 1.8252 - val_accuracy: 0.5088\n",
      "Epoch 25/100\n",
      "1407/1407 [==============================] - 14s 10ms/step - loss: 0.8958 - accuracy: 0.6939 - val_loss: 1.7479 - val_accuracy: 0.5210\n",
      "Epoch 26/100\n",
      "1407/1407 [==============================] - 13s 9ms/step - loss: 0.8749 - accuracy: 0.7038 - val_loss: 1.8270 - val_accuracy: 0.5074\n",
      "Epoch 27/100\n",
      "1407/1407 [==============================] - 13s 10ms/step - loss: 0.8617 - accuracy: 0.7078 - val_loss: 1.7860 - val_accuracy: 0.5134\n",
      "Epoch 28/100\n",
      "1407/1407 [==============================] - 13s 9ms/step - loss: 0.8474 - accuracy: 0.7127 - val_loss: 1.7278 - val_accuracy: 0.5118\n",
      "157/157 [==============================] - 0s 2ms/step - loss: 1.4675 - accuracy: 0.1154\n"
     ]
    },
    {
     "data": {
      "text/plain": [
       "[1.4674904346466064, 0.11540000140666962]"
      ]
     },
     "execution_count": 48,
     "metadata": {},
     "output_type": "execute_result"
    }
   ],
   "source": [
    "model.fit(X_train_scaled, y_train, epochs=100,\n",
    "          validation_data=(X_valid_scaled, y_valid),\n",
    "          callbacks=callbacks)\n",
    "\n",
    "model = keras.models.load_model(\"my_cifar10_alpha_dropout_model.h5\")\n",
    "model.evaluate(X_valid_scaled, y_valid)\n"
   ]
  },
  {
   "cell_type": "code",
   "execution_count": 49,
   "id": "bcb786ab",
   "metadata": {},
   "outputs": [],
   "source": [
    "class MCAlphaDropout(keras.layers.AlphaDropout):\n",
    "    def call(self, inputs):\n",
    "        return super().call(inputs, training=True)"
   ]
  },
  {
   "cell_type": "code",
   "execution_count": 50,
   "id": "09ce3977",
   "metadata": {},
   "outputs": [],
   "source": [
    "# create a new model, identical to the one we just trained (with the same weights), \n",
    "# but with MCAlphaDropout dropout layers instead of AlphaDropout layers\n",
    "mc_model = keras.models.Sequential([\n",
    "    MCAlphaDropout(layer.rate) if isinstance(layer, keras.layers.AlphaDropout) \n",
    "    else layer for layer in model.layers\n",
    "])"
   ]
  },
  {
   "cell_type": "code",
   "execution_count": 51,
   "id": "1ed74885",
   "metadata": {},
   "outputs": [],
   "source": [
    "# run 10 times\n",
    "def mc_dropout_predict_probas(mc_model, X, n_samples=10):\n",
    "    Y_probas = [mc_model.predict(X) for sample in range(n_samples)]\n",
    "    return np.mean(Y_probas, axis=0)\n",
    "\n",
    "def mc_dropout_predict_classes(mc_model, X, n_samples=10):\n",
    "    Y_probas = mc_dropout_predict_probas(mc_model, X, n_samples)\n",
    "    return np.argmax(Y_probas, axis=1)\n",
    "# return the highest probability"
   ]
  },
  {
   "cell_type": "code",
   "execution_count": 52,
   "id": "4a19da47",
   "metadata": {},
   "outputs": [
    {
     "data": {
      "text/plain": [
       "0.5094"
      ]
     },
     "execution_count": 52,
     "metadata": {},
     "output_type": "execute_result"
    }
   ],
   "source": [
    "keras.backend.clear_session()\n",
    "tf.random.set_seed(42)\n",
    "np.random.seed(42)\n",
    "\n",
    "y_pred = mc_dropout_predict_classes(mc_model, X_valid_scaled)\n",
    "accuracy = np.mean(y_pred == y_valid[:, 0])\n",
    "accuracy"
   ]
  },
  {
   "cell_type": "code",
   "execution_count": null,
   "id": "3c8d6a1a",
   "metadata": {},
   "outputs": [],
   "source": []
  }
 ],
 "metadata": {
  "kernelspec": {
   "display_name": "Python 3",
   "language": "python",
   "name": "python3"
  },
  "language_info": {
   "codemirror_mode": {
    "name": "ipython",
    "version": 3
   },
   "file_extension": ".py",
   "mimetype": "text/x-python",
   "name": "python",
   "nbconvert_exporter": "python",
   "pygments_lexer": "ipython3",
   "version": "3.8.8"
  }
 },
 "nbformat": 4,
 "nbformat_minor": 5
}
